{
  "nbformat": 4,
  "nbformat_minor": 0,
  "metadata": {
    "colab": {
      "provenance": []
    },
    "kernelspec": {
      "name": "python3",
      "display_name": "Python 3"
    },
    "language_info": {
      "name": "python"
    }
  },
  "cells": [
    {
      "cell_type": "code",
      "execution_count": 1,
      "metadata": {
        "id": "SBNanq1PPaGJ"
      },
      "outputs": [],
      "source": [
        "# Importing relevant packages\n",
        "import requests\n",
        "import json"
      ]
    },
    {
      "cell_type": "code",
      "source": [
        "!pip3 install requests"
      ],
      "metadata": {
        "colab": {
          "base_uri": "https://localhost:8080/"
        },
        "id": "Kg-JW-3DQTf5",
        "outputId": "3d7d478d-581f-409a-a943-f64ec8afbd11"
      },
      "execution_count": 2,
      "outputs": [
        {
          "output_type": "stream",
          "name": "stdout",
          "text": [
            "Requirement already satisfied: requests in /usr/local/lib/python3.11/dist-packages (2.32.3)\n",
            "Requirement already satisfied: charset-normalizer<4,>=2 in /usr/local/lib/python3.11/dist-packages (from requests) (3.4.2)\n",
            "Requirement already satisfied: idna<4,>=2.5 in /usr/local/lib/python3.11/dist-packages (from requests) (3.10)\n",
            "Requirement already satisfied: urllib3<3,>=1.21.1 in /usr/local/lib/python3.11/dist-packages (from requests) (2.4.0)\n",
            "Requirement already satisfied: certifi>=2017.4.17 in /usr/local/lib/python3.11/dist-packages (from requests) (2025.7.9)\n"
          ]
        }
      ]
    },
    {
      "cell_type": "code",
      "source": [
        "#Retrieving all questions from stack exchange API using GET request\n",
        "response = requests.get(\"https://api.stackexchange.com/2.3/questions?order=desc&sort=activity&site=stackoverflow\")"
      ],
      "metadata": {
        "id": "J0ydgZm8Rn0M"
      },
      "execution_count": 3,
      "outputs": []
    },
    {
      "cell_type": "code",
      "source": [
        "print(response.json())"
      ],
      "metadata": {
        "colab": {
          "base_uri": "https://localhost:8080/"
        },
        "id": "JWJnKpSxRyHJ",
        "outputId": "5bb0de4a-bd0a-426b-8466-f9ac205f0173"
      },
      "execution_count": 7,
      "outputs": [
        {
          "output_type": "stream",
          "name": "stdout",
          "text": [
            "{'items': [{'tags': ['c#', 'web-applications', 'asp.net-core-webapi', '.net-8.0'], 'owner': {'account_id': 84265, 'reputation': 19052, 'user_id': 235671, 'user_type': 'registered', 'accept_rate': 81, 'profile_image': 'https://i.sstatic.net/xKXSM.png?s=256', 'display_name': 't3chb0t', 'link': 'https://stackoverflow.com/users/235671/t3chb0t'}, 'is_answered': False, 'view_count': 19, 'answer_count': 0, 'score': 0, 'last_activity_date': 1752317685, 'creation_date': 1752311910, 'last_edit_date': 1752317685, 'question_id': 79699143, 'content_license': 'CC BY-SA 4.0', 'link': 'https://stackoverflow.com/questions/79699143/refactoring-minimal-web-application-pattern-into-classic-full-program-cs-with-ma', 'title': 'Refactoring minimal web application pattern into classic full Program.cs with main'}, {'tags': ['regex'], 'owner': {'account_id': 42858342, 'reputation': 11, 'user_id': 30958296, 'user_type': 'registered', 'profile_image': 'https://www.gravatar.com/avatar/97296c050d1aac29100bb806d6d5d8e7?s=256&d=identicon&r=PG&f=y&so-version=2', 'display_name': 'John Simon', 'link': 'https://stackoverflow.com/users/30958296/john-simon'}, 'is_answered': False, 'view_count': 59, 'answer_count': 1, 'score': 1, 'last_activity_date': 1752317632, 'creation_date': 1752305358, 'last_edit_date': 1752313540, 'question_id': 79699098, 'content_license': 'CC BY-SA 4.0', 'link': 'https://stackoverflow.com/questions/79699098/a-regex-expression-that-excludes-a-phrase', 'title': 'A Regex expression that excludes a phrase'}, {'tags': ['python', 'automated-tests', 'pytest'], 'owner': {'account_id': 5939645, 'reputation': 396, 'user_id': 4996797, 'user_type': 'registered', 'profile_image': 'https://www.gravatar.com/avatar/e16f6a5f42cdb40b91c2682d00a8a968?s=256&d=identicon&r=PG&f=y&so-version=2', 'display_name': 'Paweł W&#243;jcik', 'link': 'https://stackoverflow.com/users/4996797/pawe%c5%82-w%c3%b3jcik'}, 'is_answered': False, 'view_count': 30, 'answer_count': 1, 'score': 0, 'last_activity_date': 1752317534, 'creation_date': 1752261734, 'question_id': 79698757, 'content_license': 'CC BY-SA 4.0', 'link': 'https://stackoverflow.com/questions/79698757/pytest-fixture-saved-into-a-pickle', 'title': 'Pytest fixture saved into a pickle'}, {'tags': ['html', 'autocomplete', 'dropdown'], 'owner': {'account_id': 42996092, 'reputation': 1, 'user_id': 31024050, 'user_type': 'registered', 'profile_image': 'https://www.gravatar.com/avatar/2d590ea3725540371f1deff0358ac936?s=256&d=identicon&r=PG&f=y&so-version=2', 'display_name': 'David H.', 'link': 'https://stackoverflow.com/users/31024050/david-h'}, 'is_answered': False, 'view_count': 17, 'answer_count': 0, 'score': 0, 'last_activity_date': 1752317403, 'creation_date': 1752315261, 'last_edit_date': 1752317403, 'question_id': 79699186, 'content_license': 'CC BY-SA 4.0', 'link': 'https://stackoverflow.com/questions/79699186/how-to-link-the-autocomplete-dropdown-item-to-a-subsection-of-same-page-without', 'title': 'How to link the Autocomplete dropdown item to a subsection of same page without displaying full url name'}, {'tags': ['spring-boot', 'kotlin', 'discord', 'spring-oauth2'], 'owner': {'account_id': 1314915, 'reputation': 8039, 'user_id': 1262024, 'user_type': 'registered', 'accept_rate': 88, 'profile_image': 'https://i.sstatic.net/zKgL8.jpg?s=256', 'display_name': 'Smajl', 'link': 'https://stackoverflow.com/users/1262024/smajl'}, 'is_answered': False, 'view_count': 37, 'answer_count': 0, 'score': 0, 'last_activity_date': 1752317394, 'creation_date': 1752146492, 'last_edit_date': 1752317394, 'question_id': 79696979, 'content_license': 'CC BY-SA 4.0', 'link': 'https://stackoverflow.com/questions/79696979/no-user-context-present-after-finishing-oauth2-flow', 'title': 'No user context present after finishing Oauth2 flow'}, {'tags': ['javascript', 'reactjs', 'components'], 'owner': {'account_id': 34374199, 'reputation': 11, 'user_id': 26535772, 'user_type': 'registered', 'profile_image': 'https://www.gravatar.com/avatar/2bf503c25a99c36927066a0fd6468bc7?s=256&d=identicon&r=PG&f=y&so-version=2', 'display_name': 'asfreeman18', 'link': 'https://stackoverflow.com/users/26535772/asfreeman18'}, 'is_answered': True, 'view_count': 100, 'answer_count': 2, 'score': -2, 'last_activity_date': 1752317339, 'creation_date': 1750488836, 'last_edit_date': 1752095654, 'question_id': 79674218, 'content_license': 'CC BY-SA 4.0', 'link': 'https://stackoverflow.com/questions/79674218/how-to-prevent-filtered-component-from-re-rendering-over-and-over', 'title': 'How to prevent filtered component from re-rendering over and over?'}, {'tags': ['python', 'unit-testing'], 'owner': {'account_id': 15346643, 'reputation': 432, 'user_id': 11071831, 'user_type': 'registered', 'profile_image': 'https://i.sstatic.net/Z7Doc.png?s=256', 'display_name': 'Charizard_knows_to_code', 'link': 'https://stackoverflow.com/users/11071831/charizard-knows-to-code'}, 'is_answered': True, 'view_count': 35, 'accepted_answer_id': 79699116, 'answer_count': 2, 'score': 0, 'last_activity_date': 1752317290, 'creation_date': 1752305170, 'last_edit_date': 1752305552, 'question_id': 79699094, 'content_license': 'CC BY-SA 4.0', 'link': 'https://stackoverflow.com/questions/79699094/testing-equality-of-lists-which-contain-nan', 'title': 'Testing equality of lists which contain NaN'}, {'tags': ['kubernetes', 'harbor'], 'owner': {'account_id': 21860345, 'reputation': 171, 'user_id': 16151219, 'user_type': 'registered', 'profile_image': 'https://lh3.googleusercontent.com/a/AATXAJzKe2jnFNMc3fmFBRL1-_jgJjHzcFQxOLxVriZ0=k-s256', 'display_name': 'maantarng', 'link': 'https://stackoverflow.com/users/16151219/maantarng'}, 'is_answered': False, 'view_count': 7074, 'answer_count': 2, 'score': 1, 'last_activity_date': 1752317212, 'creation_date': 1657098968, 'last_edit_date': 1657100689, 'question_id': 72880842, 'content_license': 'CC BY-SA 4.0', 'link': 'https://stackoverflow.com/questions/72880842/pulling-image-from-private-container-registry-harbor-in-kubernetes', 'title': 'Pulling image from private container registry (Harbor) in Kubernetes'}, {'tags': ['javascript', 'async-await', 'svelte', 'sveltekit'], 'owner': {'account_id': 6288428, 'reputation': 217, 'user_id': 5780526, 'user_type': 'registered', 'accept_rate': 75, 'profile_image': 'https://www.gravatar.com/avatar/28edeafbfb58850f9aae609f3b8b221c?s=256&d=identicon&r=PG&f=y&so-version=2', 'display_name': 'TheCommoner282', 'link': 'https://stackoverflow.com/users/5780526/thecommoner282'}, 'is_answered': False, 'view_count': 11, 'answer_count': 0, 'score': 0, 'last_activity_date': 1752317144, 'creation_date': 1752317144, 'question_id': 79699207, 'content_license': 'CC BY-SA 4.0', 'link': 'https://stackoverflow.com/questions/79699207/why-not-call-a-fetch-function-eagerly-when-it-is-not-even-awaited', 'title': 'Why not call a fetch function eagerly when it is not even awaited'}, {'tags': ['android', 'animation', 'android-jetpack-compose', 'android-jetpack-compose-material3', 'jetpack-compose-animation'], 'owner': {'account_id': 19046110, 'reputation': 327, 'user_id': 27535495, 'user_type': 'registered', 'profile_image': 'https://lh3.googleusercontent.com/a-/AOh14GiB0dhWRKJG_2D8m8gfD_P_JVt_8-18b0labj6z=k-s256', 'display_name': 'Danfb__', 'link': 'https://stackoverflow.com/users/27535495/danfb'}, 'is_answered': False, 'view_count': 6, 'answer_count': 0, 'score': 0, 'last_activity_date': 1752317063, 'creation_date': 1752317063, 'question_id': 79699206, 'content_license': 'CC BY-SA 4.0', 'link': 'https://stackoverflow.com/questions/79699206/animatedcontent-size-change-animation-not-working-smoothly-in-jetpack-compose-di', 'title': 'AnimatedContent size change animation not working smoothly in Jetpack Compose dialog'}, {'tags': ['windows', 'powershell', 'powershell-remoting'], 'owner': {'account_id': 7796812, 'reputation': 6719, 'user_id': 5897602, 'user_type': 'registered', 'accept_rate': 92, 'profile_image': 'https://i.sstatic.net/WZb8m.jpg?s=256', 'display_name': 'Jaquarh', 'link': 'https://stackoverflow.com/users/5897602/jaquarh'}, 'is_answered': True, 'view_count': 1914, 'accepted_answer_id': 68523099, 'answer_count': 2, 'score': 1, 'last_activity_date': 1752317024, 'creation_date': 1627253626, 'question_id': 68523062, 'content_license': 'CC BY-SA 4.0', 'link': 'https://stackoverflow.com/questions/68523062/how-to-use-powershell-to-download-and-pipe-to-execution-with-arguments', 'title': 'How to use Powershell to download and pipe to execution with arguments'}, {'tags': ['python'], 'owner': {'account_id': 22494287, 'reputation': 1, 'user_id': 16691563, 'user_type': 'registered', 'profile_image': 'https://www.gravatar.com/avatar/b822fb2be1ba9cb8ece1133724af7dd2?s=256&d=identicon&r=PG&f=y&so-version=2', 'display_name': 'Eman9821', 'link': 'https://stackoverflow.com/users/16691563/eman9821'}, 'is_answered': True, 'view_count': 566, 'answer_count': 2, 'score': -2, 'last_activity_date': 1752317012, 'creation_date': 1638294992, 'question_id': 70173981, 'content_license': 'CC BY-SA 4.0', 'link': 'https://stackoverflow.com/questions/70173981/using-shutil-move-how-do-i-move-the-file-to-destination-folder-and-keep-the-f', 'title': 'Using shutil.move(), how do i move the file to destination folder and keep the file in the source folder at the same time'}, {'tags': ['python', 'visual-studio-code', 'windows-10', 'modulenotfounderror'], 'owner': {'account_id': 17092580, 'reputation': 301, 'user_id': 12368358, 'user_type': 'registered', 'profile_image': 'https://www.gravatar.com/avatar/905078b8b4765c34783b1d657a8cc810?s=256&d=identicon&r=PG&f=y&so-version=2', 'display_name': 'z.ghane', 'link': 'https://stackoverflow.com/users/12368358/z-ghane'}, 'is_answered': True, 'view_count': 1499, 'accepted_answer_id': 67188904, 'answer_count': 4, 'score': 0, 'last_activity_date': 1752316998, 'creation_date': 1618913412, 'last_edit_date': 1619018216, 'question_id': 67176837, 'content_license': 'CC BY-SA 4.0', 'link': 'https://stackoverflow.com/questions/67176837/can-we-create-a-venv-for-python-and-use-that-venv-in-other-folders-in-vscode-wi', 'title': 'Can we create a venv for python and use that venv in other folders in VSCode, Windows 10?'}, {'tags': ['php', 'arrays', 'codeigniter', 'multidimensional-array', 'query-builder'], 'owner': {'account_id': 3786865, 'reputation': 599, 'user_id': 3144542, 'user_type': 'registered', 'accept_rate': 55, 'profile_image': 'https://www.gravatar.com/avatar/c5498c3096522b82c4fbacb13e2d431d?s=256&d=identicon&r=PG&f=y&so-version=2', 'display_name': 'user3144542', 'link': 'https://stackoverflow.com/users/3144542/user3144542'}, 'is_answered': True, 'view_count': 437, 'closed_date': 1752316981, 'answer_count': 1, 'score': -1, 'last_activity_date': 1752316976, 'creation_date': 1388439707, 'last_edit_date': 1752316976, 'question_id': 20848022, 'link': 'https://stackoverflow.com/questions/20848022/using-where-in-with-a-multi-dimensional-array', 'closed_reason': 'Needs details or clarity', 'title': 'Using where_in() with a multi-dimensional array'}, {'tags': ['swift'], 'owner': {'account_id': 2767219, 'reputation': 305, 'user_id': 2385053, 'user_type': 'registered', 'profile_image': 'https://www.gravatar.com/avatar/67c55d458729b35938fef4d00b63f7d2?s=256&d=identicon&r=PG', 'display_name': 'user49354', 'link': 'https://stackoverflow.com/users/2385053/user49354'}, 'is_answered': True, 'view_count': 3392, 'accepted_answer_id': 39348310, 'answer_count': 5, 'score': 7, 'last_activity_date': 1752316939, 'creation_date': 1473142880, 'last_edit_date': 1473162118, 'question_id': 39341864, 'content_license': 'CC BY-SA 3.0', 'link': 'https://stackoverflow.com/questions/39341864/how-to-pass-variadic-parameter-in-swift', 'title': 'How to pass variadic parameter in swift?'}, {'tags': ['android', 'kotlin', 'android-custom-view'], 'owner': {'account_id': 18398630, 'reputation': 65, 'user_id': 13402326, 'user_type': 'registered', 'profile_image': 'https://lh3.googleusercontent.com/a-/AOh14GhwhIPZISfgvbBhFC-NpFgZdA70vALXy4a3ZPTU=k-s256', 'display_name': 'YOUSEF -ELSAYED', 'link': 'https://stackoverflow.com/users/13402326/yousef-elsayed'}, 'is_answered': False, 'view_count': 1235, 'answer_count': 1, 'score': 2, 'last_activity_date': 1752316875, 'creation_date': 1682318931, 'last_edit_date': 1682362639, 'question_id': 76089224, 'content_license': 'CC BY-SA 4.0', 'link': 'https://stackoverflow.com/questions/76089224/video-editor-timeline-view-android', 'title': 'Video Editor Timeline View android'}, {'tags': ['c#', 'mysql', '.net-core', 'entity-framework-core'], 'owner': {'account_id': 37951322, 'reputation': 71, 'user_id': 28516124, 'user_type': 'registered', 'profile_image': 'https://www.gravatar.com/avatar/011796ff082562d6b7d3df6f27e4e33a?s=256&d=identicon&r=PG&f=y&so-version=2', 'display_name': 'Kafkaa', 'link': 'https://stackoverflow.com/users/28516124/kafkaa'}, 'is_answered': False, 'view_count': 48, 'answer_count': 0, 'score': 1, 'last_activity_date': 1752316847, 'creation_date': 1752263895, 'last_edit_date': 1752316847, 'question_id': 79698780, 'content_license': 'CC BY-SA 4.0', 'link': 'https://stackoverflow.com/questions/79698780/how-to-keep-history-of-entities-using-table-per-type-inheritance-in-ef-core-with', 'title': 'How to keep history of entities using Table-per-Type inheritance in EF Core with Mysql'}, {'tags': ['flutter', 'dart'], 'owner': {'account_id': 14284851, 'reputation': 3, 'user_id': 10318438, 'user_type': 'registered', 'profile_image': 'https://i.sstatic.net/lsS6WI9F.png?s=256', 'display_name': 'Faisu', 'link': 'https://stackoverflow.com/users/10318438/faisu'}, 'is_answered': False, 'view_count': 9, 'answer_count': 0, 'score': 0, 'last_activity_date': 1752316826, 'creation_date': 1752316826, 'question_id': 79699202, 'content_license': 'CC BY-SA 4.0', 'link': 'https://stackoverflow.com/questions/79699202/change-the-bg-color-while-using-hexagon-plugin-in-flutter', 'title': 'Change the BG color while using Hexagon Plugin in Flutter'}, {'tags': ['javascript', 'html', 'css', 'github', 'repository'], 'owner': {'account_id': 42913465, 'reputation': 1, 'user_id': 30983429, 'user_type': 'registered', 'profile_image': 'https://www.gravatar.com/avatar/76365a6c3439e477b6e19cb93ac9a6fc?s=256&d=identicon&r=PG&f=y&so-version=2', 'display_name': 'Bello Musa', 'link': 'https://stackoverflow.com/users/30983429/bello-musa'}, 'is_answered': False, 'view_count': 15, 'answer_count': 1, 'score': -1, 'last_activity_date': 1752316816, 'creation_date': 1752314572, 'question_id': 79699179, 'content_license': 'CC BY-SA 4.0', 'link': 'https://stackoverflow.com/questions/79699179/some-of-my-images-are-not-displayed-on-my-github-deployed-site', 'title': 'Some of my images are not displayed on my Github deployed site'}, {'tags': ['javascript', 'vue.js', 'web-component', 'vitest'], 'owner': {'account_id': 12236678, 'reputation': 250, 'user_id': 8930881, 'user_type': 'registered', 'profile_image': 'https://i.sstatic.net/2SZy3.jpg?s=256', 'display_name': 'SandyKrish', 'link': 'https://stackoverflow.com/users/8930881/sandykrish'}, 'is_answered': False, 'view_count': 246, 'answer_count': 1, 'score': 1, 'last_activity_date': 1752316816, 'creation_date': 1742220194, 'last_edit_date': 1742258525, 'question_id': 79514812, 'content_license': 'CC BY-SA 4.0', 'link': 'https://stackoverflow.com/questions/79514812/how-to-access-the-shadow-dom-of-a-custom-element-in-vue-vitest', 'title': 'How to Access the Shadow DOM of a Custom Element in Vue Vitest'}, {'tags': ['python'], 'owner': {'account_id': 42997631, 'reputation': 1, 'user_id': 31024798, 'user_type': 'registered', 'profile_image': 'https://www.gravatar.com/avatar/d5f51c846ae9ab1bcb7f56e7513e1d2f?s=256&d=identicon&r=PG&f=y&so-version=2', 'display_name': 'V_V_V_', 'link': 'https://stackoverflow.com/users/31024798/v-v-v'}, 'is_answered': False, 'view_count': 9, 'answer_count': 0, 'score': 0, 'last_activity_date': 1752316765, 'creation_date': 1752316665, 'last_edit_date': 1752316765, 'question_id': 79699199, 'content_license': 'CC BY-SA 4.0', 'link': 'https://stackoverflow.com/questions/79699199/my-code-keeps-hanging-in-the-step-where-it-is-supposed-to-solve-the-linear-equat', 'title': 'My code keeps hanging in the step where it is supposed to solve the linear equations'}, {'tags': ['html', 'css'], 'owner': {'account_id': 4668696, 'reputation': 7395, 'user_id': 3781199, 'user_type': 'registered', 'accept_rate': 48, 'profile_image': 'https://www.gravatar.com/avatar/7120ecf79a5a8359b225640394ef36ef?s=256&d=identicon&r=PG&f=y&so-version=2', 'display_name': 'blue', 'link': 'https://stackoverflow.com/users/3781199/blue'}, 'is_answered': True, 'view_count': 2101, 'accepted_answer_id': 38067353, 'answer_count': 2, 'score': 0, 'last_activity_date': 1752316714, 'creation_date': 1467089397, 'question_id': 38067264, 'content_license': 'CC BY-SA 3.0', 'link': 'https://stackoverflow.com/questions/38067264/css-make-image-fill-not-stretch-circular-div', 'title': 'CSS- make image fill NOT STRETCH circular div?'}, {'tags': ['c++', 'c++14', 'variadic-templates'], 'owner': {'account_id': 8649447, 'reputation': 2348, 'user_id': 6475652, 'user_type': 'registered', 'accept_rate': 39, 'profile_image': 'https://www.gravatar.com/avatar/fd8c9dafd45a46dba708e637811556e7?s=256&d=identicon&r=PG&f=y&so-version=2', 'display_name': 'vazlsky', 'link': 'https://stackoverflow.com/users/6475652/vazlsky'}, 'is_answered': False, 'view_count': 17, 'answer_count': 0, 'score': 0, 'last_activity_date': 1752316359, 'creation_date': 1752316229, 'last_edit_date': 1752316359, 'question_id': 79699195, 'content_license': 'CC BY-SA 4.0', 'link': 'https://stackoverflow.com/questions/79699195/dynamic-list-of-arguments-for-a-variadic-function', 'title': 'Dynamic list of arguments for a variadic function'}, {'tags': ['typescript'], 'owner': {'account_id': 23262130, 'reputation': 877, 'user_id': 17348251, 'user_type': 'registered', 'profile_image': 'https://www.gravatar.com/avatar/d2e6e7ec585bd043b4621bdf6fe93dd2?s=256&d=identicon&r=PG', 'display_name': 'Pawan', 'link': 'https://stackoverflow.com/users/17348251/pawan'}, 'is_answered': False, 'view_count': 21, 'answer_count': 0, 'score': -1, 'last_activity_date': 1752316306, 'creation_date': 1752314645, 'last_edit_date': 1752316306, 'question_id': 79699180, 'content_license': 'CC BY-SA 4.0', 'link': 'https://stackoverflow.com/questions/79699180/type-checking-in-vite-react-project-why-do-i-need-tsc-when-tsserver-is-already', 'title': 'Type Checking in Vite/React Project: Why do I need tsc when tsserver is already working?'}, {'tags': ['php', 'visual-studio-code', 'laragon', 'liveserver'], 'owner': {'account_id': 3014871, 'reputation': 11, 'user_id': 3142604, 'user_type': 'registered', 'profile_image': 'https://www.gravatar.com/avatar/b17b524b9604f851db8826f56393f2f0?s=256&d=identicon&r=PG', 'display_name': 'Jacob', 'link': 'https://stackoverflow.com/users/3142604/jacob'}, 'is_answered': False, 'view_count': 10, 'answer_count': 0, 'score': 0, 'last_activity_date': 1752316298, 'creation_date': 1752316298, 'question_id': 79699197, 'content_license': 'CC BY-SA 4.0', 'link': 'https://stackoverflow.com/questions/79699197/laragon-visual-studio-php-server-live-server-live-server-web-extension-not', 'title': 'Laragon + Visual Studio Php Server &amp; Live Server + Live Server Web Extension Not Auto-Reloading Together'}, {'tags': ['python', 'qt', 'autodesk', 'motionbuilder'], 'owner': {'account_id': 10793333, 'reputation': 21, 'user_id': 10432133, 'user_type': 'registered', 'profile_image': 'https://lh5.googleusercontent.com/-pn7hJxx5bwQ/AAAAAAAAAAI/AAAAAAAABuc/KppWSuldOM4/s256-rj/photo.jpg', 'display_name': 'Agni Sen', 'link': 'https://stackoverflow.com/users/10432133/agni-sen'}, 'is_answered': False, 'view_count': 13, 'answer_count': 1, 'score': 0, 'last_activity_date': 1752316255, 'creation_date': 1752315068, 'question_id': 79699182, 'content_license': 'CC BY-SA 4.0', 'link': 'https://stackoverflow.com/questions/79699182/motionbuilder-qt-error-no-qt-platform-plugin-could-be-initialized-for-a-qt5-a', 'title': 'Motionbuilder QT error: &quot;No Qt Platform Plugin could be initialized&quot; for a Qt5 application?&quot;'}, {'tags': ['ios', 'swift', 'swiftui'], 'owner': {'account_id': 29615144, 'reputation': 176, 'user_id': 22697469, 'user_type': 'registered', 'profile_image': 'https://www.gravatar.com/avatar/64bd947dcfb51a01a268cf8cc3caa8a3?s=256&d=identicon&r=PG&f=y&so-version=2', 'display_name': 'Filippo', 'link': 'https://stackoverflow.com/users/22697469/filippo'}, 'is_answered': True, 'view_count': 98, 'answer_count': 1, 'score': 0, 'last_activity_date': 1752316186, 'creation_date': 1752180465, 'last_edit_date': 1752250767, 'question_id': 79697591, 'content_license': 'CC BY-SA 4.0', 'link': 'https://stackoverflow.com/questions/79697591/how-to-scale-a-view-to-fit-its-parent', 'title': 'How to scale a view to fit its parent?'}, {'tags': ['c#', '.net', '.net-8.0'], 'owner': {'account_id': 6461498, 'reputation': 10253, 'user_id': 6432812, 'user_type': 'registered', 'profile_image': 'https://www.gravatar.com/avatar/a8903943b9b53b34122c1323fb24fa00?s=256&d=identicon&r=PG&f=y&so-version=2', 'display_name': 'GafferMan2112', 'link': 'https://stackoverflow.com/users/6432812/gafferman2112'}, 'is_answered': True, 'view_count': 57, 'answer_count': 4, 'score': 2, 'last_activity_date': 1752316151, 'creation_date': 1752248700, 'question_id': 79698563, 'content_license': 'CC BY-SA 4.0', 'link': 'https://stackoverflow.com/questions/79698563/populating-generic-object-that-is-known-to-be-an-array-at-runtime', 'title': 'Populating generic object that is known to be an array at runtime'}, {'tags': ['mysql', 'mariadb-10.6'], 'owner': {'account_id': 3202454, 'reputation': 841, 'user_id': 2704265, 'user_type': 'registered', 'accept_rate': 11, 'profile_image': 'https://www.gravatar.com/avatar/35f553ba7ce26c0a81ed223cc179ea12?s=256&d=identicon&r=PG&f=y&so-version=2', 'display_name': 'alancc', 'link': 'https://stackoverflow.com/users/2704265/alancc'}, 'is_answered': False, 'view_count': 9, 'answer_count': 0, 'score': 0, 'last_activity_date': 1752316075, 'creation_date': 1752316075, 'question_id': 79699194, 'content_license': 'CC BY-SA 4.0', 'link': 'https://stackoverflow.com/questions/79699194/increase-tmp-table-size-max-heap-table-size-does-not-improve-tmp-tables-todisk-p', 'title': 'Increase tmp_table_size/max_heap_table_size does not improve Tmp_Tables_ToDisk percentage'}, {'tags': ['nlp', 'multilingual', 'word2vec'], 'owner': {'account_id': 20370553, 'reputation': 39, 'user_id': 14942842, 'user_type': 'registered', 'profile_image': 'https://lh3.googleusercontent.com/a-/AOh14Ggh-YtujCEJ1T5bNfiHa7V8cMwyjFTz-fts9DAe=k-s256', 'display_name': 'SeyedAli', 'link': 'https://stackoverflow.com/users/14942842/seyedali'}, 'is_answered': False, 'view_count': 12, 'answer_count': 0, 'score': 0, 'last_activity_date': 1752315904, 'creation_date': 1752315904, 'question_id': 79699193, 'content_license': 'CC BY-SA 4.0', 'link': 'https://stackoverflow.com/questions/79699193/how-can-i-train-a-multilingual-word2vec-model-with-aligned-embeddings', 'title': 'How can I train a multilingual Word2Vec model with aligned embeddings?'}], 'has_more': True, 'quota_max': 300, 'quota_remaining': 299}\n"
          ]
        }
      ]
    },
    {
      "cell_type": "code",
      "source": [
        "# Displaying all questions with their links\n",
        "for question in response.json()['items']:\n",
        "  print(question['title'])\n",
        "  print(question['link'])\n",
        "\n",
        "  print()"
      ],
      "metadata": {
        "colab": {
          "base_uri": "https://localhost:8080/"
        },
        "id": "Td_sBkLUVdn7",
        "outputId": "3798fccd-e788-4415-fc45-0c22daf16c3b"
      },
      "execution_count": 11,
      "outputs": [
        {
          "output_type": "stream",
          "name": "stdout",
          "text": [
            "Refactoring minimal web application pattern into classic full Program.cs with main\n",
            "https://stackoverflow.com/questions/79699143/refactoring-minimal-web-application-pattern-into-classic-full-program-cs-with-ma\n",
            "\n",
            "A Regex expression that excludes a phrase\n",
            "https://stackoverflow.com/questions/79699098/a-regex-expression-that-excludes-a-phrase\n",
            "\n",
            "Pytest fixture saved into a pickle\n",
            "https://stackoverflow.com/questions/79698757/pytest-fixture-saved-into-a-pickle\n",
            "\n",
            "How to link the Autocomplete dropdown item to a subsection of same page without displaying full url name\n",
            "https://stackoverflow.com/questions/79699186/how-to-link-the-autocomplete-dropdown-item-to-a-subsection-of-same-page-without\n",
            "\n",
            "No user context present after finishing Oauth2 flow\n",
            "https://stackoverflow.com/questions/79696979/no-user-context-present-after-finishing-oauth2-flow\n",
            "\n",
            "How to prevent filtered component from re-rendering over and over?\n",
            "https://stackoverflow.com/questions/79674218/how-to-prevent-filtered-component-from-re-rendering-over-and-over\n",
            "\n",
            "Testing equality of lists which contain NaN\n",
            "https://stackoverflow.com/questions/79699094/testing-equality-of-lists-which-contain-nan\n",
            "\n",
            "Pulling image from private container registry (Harbor) in Kubernetes\n",
            "https://stackoverflow.com/questions/72880842/pulling-image-from-private-container-registry-harbor-in-kubernetes\n",
            "\n",
            "Why not call a fetch function eagerly when it is not even awaited\n",
            "https://stackoverflow.com/questions/79699207/why-not-call-a-fetch-function-eagerly-when-it-is-not-even-awaited\n",
            "\n",
            "AnimatedContent size change animation not working smoothly in Jetpack Compose dialog\n",
            "https://stackoverflow.com/questions/79699206/animatedcontent-size-change-animation-not-working-smoothly-in-jetpack-compose-di\n",
            "\n",
            "How to use Powershell to download and pipe to execution with arguments\n",
            "https://stackoverflow.com/questions/68523062/how-to-use-powershell-to-download-and-pipe-to-execution-with-arguments\n",
            "\n",
            "Using shutil.move(), how do i move the file to destination folder and keep the file in the source folder at the same time\n",
            "https://stackoverflow.com/questions/70173981/using-shutil-move-how-do-i-move-the-file-to-destination-folder-and-keep-the-f\n",
            "\n",
            "Can we create a venv for python and use that venv in other folders in VSCode, Windows 10?\n",
            "https://stackoverflow.com/questions/67176837/can-we-create-a-venv-for-python-and-use-that-venv-in-other-folders-in-vscode-wi\n",
            "\n",
            "Using where_in() with a multi-dimensional array\n",
            "https://stackoverflow.com/questions/20848022/using-where-in-with-a-multi-dimensional-array\n",
            "\n",
            "How to pass variadic parameter in swift?\n",
            "https://stackoverflow.com/questions/39341864/how-to-pass-variadic-parameter-in-swift\n",
            "\n",
            "Video Editor Timeline View android\n",
            "https://stackoverflow.com/questions/76089224/video-editor-timeline-view-android\n",
            "\n",
            "How to keep history of entities using Table-per-Type inheritance in EF Core with Mysql\n",
            "https://stackoverflow.com/questions/79698780/how-to-keep-history-of-entities-using-table-per-type-inheritance-in-ef-core-with\n",
            "\n",
            "Change the BG color while using Hexagon Plugin in Flutter\n",
            "https://stackoverflow.com/questions/79699202/change-the-bg-color-while-using-hexagon-plugin-in-flutter\n",
            "\n",
            "Some of my images are not displayed on my Github deployed site\n",
            "https://stackoverflow.com/questions/79699179/some-of-my-images-are-not-displayed-on-my-github-deployed-site\n",
            "\n",
            "How to Access the Shadow DOM of a Custom Element in Vue Vitest\n",
            "https://stackoverflow.com/questions/79514812/how-to-access-the-shadow-dom-of-a-custom-element-in-vue-vitest\n",
            "\n",
            "My code keeps hanging in the step where it is supposed to solve the linear equations\n",
            "https://stackoverflow.com/questions/79699199/my-code-keeps-hanging-in-the-step-where-it-is-supposed-to-solve-the-linear-equat\n",
            "\n",
            "CSS- make image fill NOT STRETCH circular div?\n",
            "https://stackoverflow.com/questions/38067264/css-make-image-fill-not-stretch-circular-div\n",
            "\n",
            "Dynamic list of arguments for a variadic function\n",
            "https://stackoverflow.com/questions/79699195/dynamic-list-of-arguments-for-a-variadic-function\n",
            "\n",
            "Type Checking in Vite/React Project: Why do I need tsc when tsserver is already working?\n",
            "https://stackoverflow.com/questions/79699180/type-checking-in-vite-react-project-why-do-i-need-tsc-when-tsserver-is-already\n",
            "\n",
            "Laragon + Visual Studio Php Server &amp; Live Server + Live Server Web Extension Not Auto-Reloading Together\n",
            "https://stackoverflow.com/questions/79699197/laragon-visual-studio-php-server-live-server-live-server-web-extension-not\n",
            "\n",
            "Motionbuilder QT error: &quot;No Qt Platform Plugin could be initialized&quot; for a Qt5 application?&quot;\n",
            "https://stackoverflow.com/questions/79699182/motionbuilder-qt-error-no-qt-platform-plugin-could-be-initialized-for-a-qt5-a\n",
            "\n",
            "How to scale a view to fit its parent?\n",
            "https://stackoverflow.com/questions/79697591/how-to-scale-a-view-to-fit-its-parent\n",
            "\n",
            "Populating generic object that is known to be an array at runtime\n",
            "https://stackoverflow.com/questions/79698563/populating-generic-object-that-is-known-to-be-an-array-at-runtime\n",
            "\n",
            "Increase tmp_table_size/max_heap_table_size does not improve Tmp_Tables_ToDisk percentage\n",
            "https://stackoverflow.com/questions/79699194/increase-tmp-table-size-max-heap-table-size-does-not-improve-tmp-tables-todisk-p\n",
            "\n",
            "How can I train a multilingual Word2Vec model with aligned embeddings?\n",
            "https://stackoverflow.com/questions/79699193/how-can-i-train-a-multilingual-word2vec-model-with-aligned-embeddings\n",
            "\n"
          ]
        }
      ]
    },
    {
      "cell_type": "code",
      "source": [
        "# Adding condition to display only questions without answers\n",
        "for question in response.json()['items']:\n",
        "  if question['answer_count'] == 0:\n",
        "    print(question['title'])\n",
        "    print(question['link'])\n",
        "  else:\n",
        "    print('Skipped')\n",
        "  print()"
      ],
      "metadata": {
        "colab": {
          "base_uri": "https://localhost:8080/"
        },
        "id": "H8lTrzAWX7Ga",
        "outputId": "ad70334f-5bc3-425d-8267-4c97e94d3917"
      },
      "execution_count": 10,
      "outputs": [
        {
          "output_type": "stream",
          "name": "stdout",
          "text": [
            "Refactoring minimal web application pattern into classic full Program.cs with main\n",
            "https://stackoverflow.com/questions/79699143/refactoring-minimal-web-application-pattern-into-classic-full-program-cs-with-ma\n",
            "\n",
            "Skipped\n",
            "\n",
            "Skipped\n",
            "\n",
            "How to link the Autocomplete dropdown item to a subsection of same page without displaying full url name\n",
            "https://stackoverflow.com/questions/79699186/how-to-link-the-autocomplete-dropdown-item-to-a-subsection-of-same-page-without\n",
            "\n",
            "No user context present after finishing Oauth2 flow\n",
            "https://stackoverflow.com/questions/79696979/no-user-context-present-after-finishing-oauth2-flow\n",
            "\n",
            "Skipped\n",
            "\n",
            "Skipped\n",
            "\n",
            "Skipped\n",
            "\n",
            "Why not call a fetch function eagerly when it is not even awaited\n",
            "https://stackoverflow.com/questions/79699207/why-not-call-a-fetch-function-eagerly-when-it-is-not-even-awaited\n",
            "\n",
            "AnimatedContent size change animation not working smoothly in Jetpack Compose dialog\n",
            "https://stackoverflow.com/questions/79699206/animatedcontent-size-change-animation-not-working-smoothly-in-jetpack-compose-di\n",
            "\n",
            "Skipped\n",
            "\n",
            "Skipped\n",
            "\n",
            "Skipped\n",
            "\n",
            "Skipped\n",
            "\n",
            "Skipped\n",
            "\n",
            "Skipped\n",
            "\n",
            "How to keep history of entities using Table-per-Type inheritance in EF Core with Mysql\n",
            "https://stackoverflow.com/questions/79698780/how-to-keep-history-of-entities-using-table-per-type-inheritance-in-ef-core-with\n",
            "\n",
            "Change the BG color while using Hexagon Plugin in Flutter\n",
            "https://stackoverflow.com/questions/79699202/change-the-bg-color-while-using-hexagon-plugin-in-flutter\n",
            "\n",
            "Skipped\n",
            "\n",
            "Skipped\n",
            "\n",
            "My code keeps hanging in the step where it is supposed to solve the linear equations\n",
            "https://stackoverflow.com/questions/79699199/my-code-keeps-hanging-in-the-step-where-it-is-supposed-to-solve-the-linear-equat\n",
            "\n",
            "Skipped\n",
            "\n",
            "Dynamic list of arguments for a variadic function\n",
            "https://stackoverflow.com/questions/79699195/dynamic-list-of-arguments-for-a-variadic-function\n",
            "\n",
            "Type Checking in Vite/React Project: Why do I need tsc when tsserver is already working?\n",
            "https://stackoverflow.com/questions/79699180/type-checking-in-vite-react-project-why-do-i-need-tsc-when-tsserver-is-already\n",
            "\n",
            "Laragon + Visual Studio Php Server &amp; Live Server + Live Server Web Extension Not Auto-Reloading Together\n",
            "https://stackoverflow.com/questions/79699197/laragon-visual-studio-php-server-live-server-live-server-web-extension-not\n",
            "\n",
            "Skipped\n",
            "\n",
            "Skipped\n",
            "\n",
            "Skipped\n",
            "\n",
            "Increase tmp_table_size/max_heap_table_size does not improve Tmp_Tables_ToDisk percentage\n",
            "https://stackoverflow.com/questions/79699194/increase-tmp-table-size-max-heap-table-size-does-not-improve-tmp-tables-todisk-p\n",
            "\n",
            "How can I train a multilingual Word2Vec model with aligned embeddings?\n",
            "https://stackoverflow.com/questions/79699193/how-can-i-train-a-multilingual-word2vec-model-with-aligned-embeddings\n",
            "\n"
          ]
        }
      ]
    }
  ]
}